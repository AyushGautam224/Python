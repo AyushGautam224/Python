{
 "cells": [
  {
   "cell_type": "code",
   "execution_count": 6,
   "id": "110ae72d",
   "metadata": {},
   "outputs": [
    {
     "name": "stdout",
     "output_type": "stream",
     "text": [
      "Requirement already satisfied: pandas in c:\\users\\lenovo\\anaconda3\\lib\\site-packages (2.0.3)\n",
      "Requirement already satisfied: python-dateutil>=2.8.2 in c:\\users\\lenovo\\anaconda3\\lib\\site-packages (from pandas) (2.8.2)\n",
      "Requirement already satisfied: pytz>=2020.1 in c:\\users\\lenovo\\anaconda3\\lib\\site-packages (from pandas) (2023.3.post1)\n",
      "Requirement already satisfied: tzdata>=2022.1 in c:\\users\\lenovo\\anaconda3\\lib\\site-packages (from pandas) (2023.3)\n",
      "Requirement already satisfied: numpy>=1.21.0 in c:\\users\\lenovo\\anaconda3\\lib\\site-packages (from pandas) (1.24.3)\n",
      "Requirement already satisfied: six>=1.5 in c:\\users\\lenovo\\anaconda3\\lib\\site-packages (from python-dateutil>=2.8.2->pandas) (1.16.0)\n",
      "Note: you may need to restart the kernel to use updated packages.\n"
     ]
    }
   ],
   "source": [
    "pip install pandas"
   ]
  },
  {
   "cell_type": "code",
   "execution_count": 2,
   "id": "ea652e9c",
   "metadata": {},
   "outputs": [],
   "source": [
    "import pandas as pd"
   ]
  },
  {
   "cell_type": "code",
   "execution_count": 3,
   "id": "6f22c9e0",
   "metadata": {},
   "outputs": [],
   "source": [
    "ab={\n",
    "    \"id\":[1,2,3,4,5,6,7,8,9,10],\"email\":['asrun','dummy','rest','best','suffer','food','utgghgf','kiygy','ikguhyg','oity'], \"number\":[36464,38655,68722228,84521787,894989,368114,33687,6987,36876,36414], \"city\":[\"lucknow\",\"sitapur\",\"hardoi\",\"kanpur\",\"agra\",\"juytv\",\"kuygvy\",\"kityy\",\"iutfj\",\"kiyhyu\"],\"enrol\":[6541,6841,6871,6781,4785,368713,3687,6781,7562,7856]\n",
    "}"
   ]
  },
  {
   "cell_type": "code",
   "execution_count": 4,
   "id": "3011a61a",
   "metadata": {},
   "outputs": [],
   "source": [
    "bc=pd.DataFrame(ab)"
   ]
  },
  {
   "cell_type": "code",
   "execution_count": 5,
   "id": "fe440d6e",
   "metadata": {},
   "outputs": [
    {
     "data": {
      "text/html": [
       "<div>\n",
       "<style scoped>\n",
       "    .dataframe tbody tr th:only-of-type {\n",
       "        vertical-align: middle;\n",
       "    }\n",
       "\n",
       "    .dataframe tbody tr th {\n",
       "        vertical-align: top;\n",
       "    }\n",
       "\n",
       "    .dataframe thead th {\n",
       "        text-align: right;\n",
       "    }\n",
       "</style>\n",
       "<table border=\"1\" class=\"dataframe\">\n",
       "  <thead>\n",
       "    <tr style=\"text-align: right;\">\n",
       "      <th></th>\n",
       "      <th>id</th>\n",
       "      <th>email</th>\n",
       "      <th>number</th>\n",
       "      <th>city</th>\n",
       "      <th>enrol</th>\n",
       "    </tr>\n",
       "  </thead>\n",
       "  <tbody>\n",
       "    <tr>\n",
       "      <th>0</th>\n",
       "      <td>1</td>\n",
       "      <td>asrun</td>\n",
       "      <td>36464</td>\n",
       "      <td>lucknow</td>\n",
       "      <td>6541</td>\n",
       "    </tr>\n",
       "    <tr>\n",
       "      <th>1</th>\n",
       "      <td>2</td>\n",
       "      <td>dummy</td>\n",
       "      <td>38655</td>\n",
       "      <td>sitapur</td>\n",
       "      <td>6841</td>\n",
       "    </tr>\n",
       "    <tr>\n",
       "      <th>2</th>\n",
       "      <td>3</td>\n",
       "      <td>rest</td>\n",
       "      <td>68722228</td>\n",
       "      <td>hardoi</td>\n",
       "      <td>6871</td>\n",
       "    </tr>\n",
       "    <tr>\n",
       "      <th>3</th>\n",
       "      <td>4</td>\n",
       "      <td>best</td>\n",
       "      <td>84521787</td>\n",
       "      <td>kanpur</td>\n",
       "      <td>6781</td>\n",
       "    </tr>\n",
       "    <tr>\n",
       "      <th>4</th>\n",
       "      <td>5</td>\n",
       "      <td>suffer</td>\n",
       "      <td>894989</td>\n",
       "      <td>agra</td>\n",
       "      <td>4785</td>\n",
       "    </tr>\n",
       "    <tr>\n",
       "      <th>5</th>\n",
       "      <td>6</td>\n",
       "      <td>food</td>\n",
       "      <td>368114</td>\n",
       "      <td>juytv</td>\n",
       "      <td>368713</td>\n",
       "    </tr>\n",
       "    <tr>\n",
       "      <th>6</th>\n",
       "      <td>7</td>\n",
       "      <td>utgghgf</td>\n",
       "      <td>33687</td>\n",
       "      <td>kuygvy</td>\n",
       "      <td>3687</td>\n",
       "    </tr>\n",
       "    <tr>\n",
       "      <th>7</th>\n",
       "      <td>8</td>\n",
       "      <td>kiygy</td>\n",
       "      <td>6987</td>\n",
       "      <td>kityy</td>\n",
       "      <td>6781</td>\n",
       "    </tr>\n",
       "    <tr>\n",
       "      <th>8</th>\n",
       "      <td>9</td>\n",
       "      <td>ikguhyg</td>\n",
       "      <td>36876</td>\n",
       "      <td>iutfj</td>\n",
       "      <td>7562</td>\n",
       "    </tr>\n",
       "    <tr>\n",
       "      <th>9</th>\n",
       "      <td>10</td>\n",
       "      <td>oity</td>\n",
       "      <td>36414</td>\n",
       "      <td>kiyhyu</td>\n",
       "      <td>7856</td>\n",
       "    </tr>\n",
       "  </tbody>\n",
       "</table>\n",
       "</div>"
      ],
      "text/plain": [
       "   id    email    number     city   enrol\n",
       "0   1    asrun     36464  lucknow    6541\n",
       "1   2    dummy     38655  sitapur    6841\n",
       "2   3     rest  68722228   hardoi    6871\n",
       "3   4     best  84521787   kanpur    6781\n",
       "4   5   suffer    894989     agra    4785\n",
       "5   6     food    368114    juytv  368713\n",
       "6   7  utgghgf     33687   kuygvy    3687\n",
       "7   8    kiygy      6987    kityy    6781\n",
       "8   9  ikguhyg     36876    iutfj    7562\n",
       "9  10     oity     36414   kiyhyu    7856"
      ]
     },
     "execution_count": 5,
     "metadata": {},
     "output_type": "execute_result"
    }
   ],
   "source": [
    "bc"
   ]
  },
  {
   "cell_type": "code",
   "execution_count": null,
   "id": "60b01624",
   "metadata": {},
   "outputs": [],
   "source": []
  },
  {
   "cell_type": "code",
   "execution_count": 7,
   "id": "c99b361e",
   "metadata": {},
   "outputs": [
    {
     "data": {
      "text/plain": [
       "pandas.core.frame.DataFrame"
      ]
     },
     "execution_count": 7,
     "metadata": {},
     "output_type": "execute_result"
    }
   ],
   "source": [
    "type(bc)"
   ]
  },
  {
   "cell_type": "code",
   "execution_count": 8,
   "id": "7f9099c2",
   "metadata": {},
   "outputs": [
    {
     "data": {
      "text/plain": [
       "0    lucknow\n",
       "1    sitapur\n",
       "2     hardoi\n",
       "3     kanpur\n",
       "4       agra\n",
       "5      juytv\n",
       "6     kuygvy\n",
       "7      kityy\n",
       "8      iutfj\n",
       "9     kiyhyu\n",
       "Name: city, dtype: object"
      ]
     },
     "execution_count": 8,
     "metadata": {},
     "output_type": "execute_result"
    }
   ],
   "source": [
    "bc['city']"
   ]
  },
  {
   "cell_type": "code",
   "execution_count": 9,
   "id": "6abb1f8c",
   "metadata": {},
   "outputs": [
    {
     "data": {
      "text/html": [
       "<div>\n",
       "<style scoped>\n",
       "    .dataframe tbody tr th:only-of-type {\n",
       "        vertical-align: middle;\n",
       "    }\n",
       "\n",
       "    .dataframe tbody tr th {\n",
       "        vertical-align: top;\n",
       "    }\n",
       "\n",
       "    .dataframe thead th {\n",
       "        text-align: right;\n",
       "    }\n",
       "</style>\n",
       "<table border=\"1\" class=\"dataframe\">\n",
       "  <thead>\n",
       "    <tr style=\"text-align: right;\">\n",
       "      <th></th>\n",
       "      <th>enrol</th>\n",
       "      <th>email</th>\n",
       "    </tr>\n",
       "  </thead>\n",
       "  <tbody>\n",
       "    <tr>\n",
       "      <th>0</th>\n",
       "      <td>6541</td>\n",
       "      <td>asrun</td>\n",
       "    </tr>\n",
       "    <tr>\n",
       "      <th>1</th>\n",
       "      <td>6841</td>\n",
       "      <td>dummy</td>\n",
       "    </tr>\n",
       "    <tr>\n",
       "      <th>2</th>\n",
       "      <td>6871</td>\n",
       "      <td>rest</td>\n",
       "    </tr>\n",
       "    <tr>\n",
       "      <th>3</th>\n",
       "      <td>6781</td>\n",
       "      <td>best</td>\n",
       "    </tr>\n",
       "    <tr>\n",
       "      <th>4</th>\n",
       "      <td>4785</td>\n",
       "      <td>suffer</td>\n",
       "    </tr>\n",
       "    <tr>\n",
       "      <th>5</th>\n",
       "      <td>368713</td>\n",
       "      <td>food</td>\n",
       "    </tr>\n",
       "    <tr>\n",
       "      <th>6</th>\n",
       "      <td>3687</td>\n",
       "      <td>utgghgf</td>\n",
       "    </tr>\n",
       "    <tr>\n",
       "      <th>7</th>\n",
       "      <td>6781</td>\n",
       "      <td>kiygy</td>\n",
       "    </tr>\n",
       "    <tr>\n",
       "      <th>8</th>\n",
       "      <td>7562</td>\n",
       "      <td>ikguhyg</td>\n",
       "    </tr>\n",
       "    <tr>\n",
       "      <th>9</th>\n",
       "      <td>7856</td>\n",
       "      <td>oity</td>\n",
       "    </tr>\n",
       "  </tbody>\n",
       "</table>\n",
       "</div>"
      ],
      "text/plain": [
       "    enrol    email\n",
       "0    6541    asrun\n",
       "1    6841    dummy\n",
       "2    6871     rest\n",
       "3    6781     best\n",
       "4    4785   suffer\n",
       "5  368713     food\n",
       "6    3687  utgghgf\n",
       "7    6781    kiygy\n",
       "8    7562  ikguhyg\n",
       "9    7856     oity"
      ]
     },
     "execution_count": 9,
     "metadata": {},
     "output_type": "execute_result"
    }
   ],
   "source": [
    "bc[['enrol','email']]"
   ]
  },
  {
   "cell_type": "code",
   "execution_count": 10,
   "id": "259eb109",
   "metadata": {},
   "outputs": [
    {
     "data": {
      "text/plain": [
       "id             5\n",
       "email     suffer\n",
       "number    894989\n",
       "city        agra\n",
       "enrol       4785\n",
       "Name: 4, dtype: object"
      ]
     },
     "execution_count": 10,
     "metadata": {},
     "output_type": "execute_result"
    }
   ],
   "source": [
    "bc.iloc[4]"
   ]
  },
  {
   "cell_type": "code",
   "execution_count": 11,
   "id": "b623430b",
   "metadata": {},
   "outputs": [
    {
     "data": {
      "text/html": [
       "<div>\n",
       "<style scoped>\n",
       "    .dataframe tbody tr th:only-of-type {\n",
       "        vertical-align: middle;\n",
       "    }\n",
       "\n",
       "    .dataframe tbody tr th {\n",
       "        vertical-align: top;\n",
       "    }\n",
       "\n",
       "    .dataframe thead th {\n",
       "        text-align: right;\n",
       "    }\n",
       "</style>\n",
       "<table border=\"1\" class=\"dataframe\">\n",
       "  <thead>\n",
       "    <tr style=\"text-align: right;\">\n",
       "      <th></th>\n",
       "      <th>id</th>\n",
       "      <th>email</th>\n",
       "      <th>number</th>\n",
       "      <th>city</th>\n",
       "      <th>enrol</th>\n",
       "    </tr>\n",
       "  </thead>\n",
       "  <tbody>\n",
       "    <tr>\n",
       "      <th>0</th>\n",
       "      <td>1</td>\n",
       "      <td>asrun</td>\n",
       "      <td>36464</td>\n",
       "      <td>lucknow</td>\n",
       "      <td>6541</td>\n",
       "    </tr>\n",
       "    <tr>\n",
       "      <th>1</th>\n",
       "      <td>2</td>\n",
       "      <td>dummy</td>\n",
       "      <td>38655</td>\n",
       "      <td>sitapur</td>\n",
       "      <td>6841</td>\n",
       "    </tr>\n",
       "    <tr>\n",
       "      <th>2</th>\n",
       "      <td>3</td>\n",
       "      <td>rest</td>\n",
       "      <td>68722228</td>\n",
       "      <td>hardoi</td>\n",
       "      <td>6871</td>\n",
       "    </tr>\n",
       "    <tr>\n",
       "      <th>3</th>\n",
       "      <td>4</td>\n",
       "      <td>best</td>\n",
       "      <td>84521787</td>\n",
       "      <td>kanpur</td>\n",
       "      <td>6781</td>\n",
       "    </tr>\n",
       "    <tr>\n",
       "      <th>4</th>\n",
       "      <td>5</td>\n",
       "      <td>suffer</td>\n",
       "      <td>894989</td>\n",
       "      <td>agra</td>\n",
       "      <td>4785</td>\n",
       "    </tr>\n",
       "    <tr>\n",
       "      <th>5</th>\n",
       "      <td>6</td>\n",
       "      <td>food</td>\n",
       "      <td>368114</td>\n",
       "      <td>juytv</td>\n",
       "      <td>368713</td>\n",
       "    </tr>\n",
       "    <tr>\n",
       "      <th>6</th>\n",
       "      <td>7</td>\n",
       "      <td>utgghgf</td>\n",
       "      <td>33687</td>\n",
       "      <td>kuygvy</td>\n",
       "      <td>3687</td>\n",
       "    </tr>\n",
       "    <tr>\n",
       "      <th>7</th>\n",
       "      <td>8</td>\n",
       "      <td>kiygy</td>\n",
       "      <td>6987</td>\n",
       "      <td>kityy</td>\n",
       "      <td>6781</td>\n",
       "    </tr>\n",
       "    <tr>\n",
       "      <th>8</th>\n",
       "      <td>9</td>\n",
       "      <td>ikguhyg</td>\n",
       "      <td>36876</td>\n",
       "      <td>iutfj</td>\n",
       "      <td>7562</td>\n",
       "    </tr>\n",
       "    <tr>\n",
       "      <th>9</th>\n",
       "      <td>10</td>\n",
       "      <td>oity</td>\n",
       "      <td>36414</td>\n",
       "      <td>kiyhyu</td>\n",
       "      <td>7856</td>\n",
       "    </tr>\n",
       "  </tbody>\n",
       "</table>\n",
       "</div>"
      ],
      "text/plain": [
       "   id    email    number     city   enrol\n",
       "0   1    asrun     36464  lucknow    6541\n",
       "1   2    dummy     38655  sitapur    6841\n",
       "2   3     rest  68722228   hardoi    6871\n",
       "3   4     best  84521787   kanpur    6781\n",
       "4   5   suffer    894989     agra    4785\n",
       "5   6     food    368114    juytv  368713\n",
       "6   7  utgghgf     33687   kuygvy    3687\n",
       "7   8    kiygy      6987    kityy    6781\n",
       "8   9  ikguhyg     36876    iutfj    7562\n",
       "9  10     oity     36414   kiyhyu    7856"
      ]
     },
     "execution_count": 11,
     "metadata": {},
     "output_type": "execute_result"
    }
   ],
   "source": [
    "bc"
   ]
  },
  {
   "cell_type": "code",
   "execution_count": 12,
   "id": "660cb0a3",
   "metadata": {},
   "outputs": [],
   "source": [
    "a=bc.iloc[:2]\n",
    "b=bc.iloc[7:10]"
   ]
  },
  {
   "cell_type": "code",
   "execution_count": 13,
   "id": "ba02caf1",
   "metadata": {},
   "outputs": [
    {
     "data": {
      "text/html": [
       "<div>\n",
       "<style scoped>\n",
       "    .dataframe tbody tr th:only-of-type {\n",
       "        vertical-align: middle;\n",
       "    }\n",
       "\n",
       "    .dataframe tbody tr th {\n",
       "        vertical-align: top;\n",
       "    }\n",
       "\n",
       "    .dataframe thead th {\n",
       "        text-align: right;\n",
       "    }\n",
       "</style>\n",
       "<table border=\"1\" class=\"dataframe\">\n",
       "  <thead>\n",
       "    <tr style=\"text-align: right;\">\n",
       "      <th></th>\n",
       "      <th>id</th>\n",
       "      <th>email</th>\n",
       "      <th>number</th>\n",
       "      <th>city</th>\n",
       "      <th>enrol</th>\n",
       "    </tr>\n",
       "  </thead>\n",
       "  <tbody>\n",
       "    <tr>\n",
       "      <th>0</th>\n",
       "      <td>1</td>\n",
       "      <td>asrun</td>\n",
       "      <td>36464</td>\n",
       "      <td>lucknow</td>\n",
       "      <td>6541</td>\n",
       "    </tr>\n",
       "    <tr>\n",
       "      <th>1</th>\n",
       "      <td>2</td>\n",
       "      <td>dummy</td>\n",
       "      <td>38655</td>\n",
       "      <td>sitapur</td>\n",
       "      <td>6841</td>\n",
       "    </tr>\n",
       "    <tr>\n",
       "      <th>7</th>\n",
       "      <td>8</td>\n",
       "      <td>kiygy</td>\n",
       "      <td>6987</td>\n",
       "      <td>kityy</td>\n",
       "      <td>6781</td>\n",
       "    </tr>\n",
       "    <tr>\n",
       "      <th>8</th>\n",
       "      <td>9</td>\n",
       "      <td>ikguhyg</td>\n",
       "      <td>36876</td>\n",
       "      <td>iutfj</td>\n",
       "      <td>7562</td>\n",
       "    </tr>\n",
       "    <tr>\n",
       "      <th>9</th>\n",
       "      <td>10</td>\n",
       "      <td>oity</td>\n",
       "      <td>36414</td>\n",
       "      <td>kiyhyu</td>\n",
       "      <td>7856</td>\n",
       "    </tr>\n",
       "  </tbody>\n",
       "</table>\n",
       "</div>"
      ],
      "text/plain": [
       "   id    email  number     city  enrol\n",
       "0   1    asrun   36464  lucknow   6541\n",
       "1   2    dummy   38655  sitapur   6841\n",
       "7   8    kiygy    6987    kityy   6781\n",
       "8   9  ikguhyg   36876    iutfj   7562\n",
       "9  10     oity   36414   kiyhyu   7856"
      ]
     },
     "execution_count": 13,
     "metadata": {},
     "output_type": "execute_result"
    }
   ],
   "source": [
    "pd.concat([a,b])"
   ]
  },
  {
   "cell_type": "code",
   "execution_count": null,
   "id": "f6000b44",
   "metadata": {},
   "outputs": [],
   "source": []
  },
  {
   "cell_type": "code",
   "execution_count": null,
   "id": "c713208e",
   "metadata": {},
   "outputs": [],
   "source": []
  },
  {
   "cell_type": "code",
   "execution_count": null,
   "id": "87385312",
   "metadata": {},
   "outputs": [],
   "source": []
  }
 ],
 "metadata": {
  "kernelspec": {
   "display_name": "Python 3 (ipykernel)",
   "language": "python",
   "name": "python3"
  },
  "language_info": {
   "codemirror_mode": {
    "name": "ipython",
    "version": 3
   },
   "file_extension": ".py",
   "mimetype": "text/x-python",
   "name": "python",
   "nbconvert_exporter": "python",
   "pygments_lexer": "ipython3",
   "version": "3.11.5"
  }
 },
 "nbformat": 4,
 "nbformat_minor": 5
}
