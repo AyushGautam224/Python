{
 "cells": [
  {
   "cell_type": "code",
   "execution_count": 1,
   "id": "06c1ab82",
   "metadata": {},
   "outputs": [],
   "source": [
    "import boto3"
   ]
  },
  {
   "cell_type": "code",
   "execution_count": null,
   "id": "37dcf908",
   "metadata": {},
   "outputs": [],
   "source": [
    "rekognition_client = boto3.client('rekognition')"
   ]
  },
  {
   "cell_type": "code",
   "execution_count": null,
   "id": "97a8d210",
   "metadata": {},
   "outputs": [],
   "source": [
    "bucket_name = 'getlostforit'\n",
    "image_key = 'D:\\extra\\Amazon-Rekognition.webp'\n",
    "features = ['ALL']\n"
   ]
  },
  {
   "cell_type": "code",
   "execution_count": null,
   "id": "24e73a1c",
   "metadata": {},
   "outputs": [],
   "source": [
    "response = rekognition_client.detect_faces(\n",
    "    Image={\n",
    "        'S3Object': {\n",
    "            'Bucket': bucket_name,\n",
    "            'Name': image_key\n",
    "        }\n",
    "    },\n",
    "    Attributes=features\n",
    ")"
   ]
  },
  {
   "cell_type": "code",
   "execution_count": null,
   "id": "82d186d9",
   "metadata": {},
   "outputs": [],
   "source": [
    "for face_detail in response['FaceDetails']:\n",
    "    print(f\"Face detected at ({face_detail['BoundingBox']['Left']}, {face_detail['BoundingBox']['Top']})\")\n",
    "    print(f\"Emotions: {face_detail['Emotions']}\")\n",
    "    print(f\"Gender: {face_detail['Gender']['Value']}\")\n",
    "    print(f\"Age Range: {face_detail['AgeRange']['Low']} - {face_detail['AgeRange']['High']}\")\n",
    "    print(\"\")\n"
   ]
  },
  {
   "cell_type": "code",
   "execution_count": null,
   "id": "71d78ea9",
   "metadata": {},
   "outputs": [],
   "source": []
  }
 ],
 "metadata": {
  "kernelspec": {
   "display_name": "Python 3 (ipykernel)",
   "language": "python",
   "name": "python3"
  },
  "language_info": {
   "codemirror_mode": {
    "name": "ipython",
    "version": 3
   },
   "file_extension": ".py",
   "mimetype": "text/x-python",
   "name": "python",
   "nbconvert_exporter": "python",
   "pygments_lexer": "ipython3",
   "version": "3.11.5"
  }
 },
 "nbformat": 4,
 "nbformat_minor": 5
}
