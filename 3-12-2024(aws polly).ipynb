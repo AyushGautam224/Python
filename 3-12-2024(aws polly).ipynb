{
 "cells": [
  {
   "cell_type": "code",
   "execution_count": 1,
   "id": "49527053",
   "metadata": {},
   "outputs": [],
   "source": [
    "import boto3"
   ]
  },
  {
   "cell_type": "code",
   "execution_count": 9,
   "id": "6d0d3d94",
   "metadata": {},
   "outputs": [],
   "source": [
    "xyz = boto3.client('polly')"
   ]
  },
  {
   "cell_type": "code",
   "execution_count": 10,
   "id": "0e09658b",
   "metadata": {},
   "outputs": [],
   "source": [
    "text_to_synthesize = \"Hello, i Am a trainee in technical doss training.\""
   ]
  },
  {
   "cell_type": "code",
   "execution_count": 11,
   "id": "66290663",
   "metadata": {},
   "outputs": [],
   "source": [
    "response = xyz.synthesize_speech(\n",
    "    Text=text_to_synthesize,\n",
    "    OutputFormat='mp3',\n",
    "    VoiceId='Joanna')"
   ]
  },
  {
   "cell_type": "code",
   "execution_count": 12,
   "id": "e3304718",
   "metadata": {},
   "outputs": [],
   "source": [
    "with open('output.mp3', 'wb') as file:\n",
    "    file.write(response['AudioStream'].read())"
   ]
  },
  {
   "cell_type": "code",
   "execution_count": null,
   "id": "fe039c83",
   "metadata": {},
   "outputs": [],
   "source": []
  }
 ],
 "metadata": {
  "kernelspec": {
   "display_name": "Python 3 (ipykernel)",
   "language": "python",
   "name": "python3"
  },
  "language_info": {
   "codemirror_mode": {
    "name": "ipython",
    "version": 3
   },
   "file_extension": ".py",
   "mimetype": "text/x-python",
   "name": "python",
   "nbconvert_exporter": "python",
   "pygments_lexer": "ipython3",
   "version": "3.11.5"
  }
 },
 "nbformat": 4,
 "nbformat_minor": 5
}
