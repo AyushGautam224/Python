{
 "cells": [
  {
   "cell_type": "code",
   "execution_count": 4,
   "id": "926af64a",
   "metadata": {},
   "outputs": [
    {
     "name": "stdout",
     "output_type": "stream",
     "text": [
      "Requirement already satisfied: cvzone in c:\\users\\lenovo\\anaconda3\\lib\\site-packages (1.6.1)\n",
      "Requirement already satisfied: opencv-python in c:\\users\\lenovo\\anaconda3\\lib\\site-packages (from cvzone) (4.9.0.80)\n",
      "Requirement already satisfied: numpy in c:\\users\\lenovo\\anaconda3\\lib\\site-packages (from cvzone) (1.24.3)\n",
      "Note: you may need to restart the kernel to use updated packages.\n"
     ]
    }
   ],
   "source": [
    "pip install cvzone"
   ]
  },
  {
   "cell_type": "code",
   "execution_count": 5,
   "id": "f5a5ee3a",
   "metadata": {},
   "outputs": [],
   "source": [
    "import cvzone as cv"
   ]
  },
  {
   "cell_type": "code",
   "execution_count": 6,
   "id": "1b8421fc",
   "metadata": {},
   "outputs": [
    {
     "ename": "SyntaxError",
     "evalue": "invalid syntax. Perhaps you forgot a comma? (4072116143.py, line 1)",
     "output_type": "error",
     "traceback": [
      "\u001b[1;36m  Cell \u001b[1;32mIn[6], line 1\u001b[1;36m\u001b[0m\n\u001b[1;33m    cv.putTextRect(Screenshot (27).png,hello semiurt)\u001b[0m\n\u001b[1;37m                                       ^\u001b[0m\n\u001b[1;31mSyntaxError\u001b[0m\u001b[1;31m:\u001b[0m invalid syntax. Perhaps you forgot a comma?\n"
     ]
    }
   ],
   "source": [
    "cv.putTextRect(Screenshot (27).png,hello semiurt)"
   ]
  },
  {
   "cell_type": "code",
   "execution_count": null,
   "id": "25ec4d26",
   "metadata": {},
   "outputs": [],
   "source": [
    "cv.downloadImageFromUrl('https://www.google.com/imgres?imgurl=https%3A%2F%2Fopengraph.githubassets.com%2Fd39125413e1764a4fcfcd4456fee7e44a95bd15881ca25a2eb4293cb872043d4%2Fcvzone%2Fcvzone&tbnid=JGVsbcAoHOyVzM&vet=12ahUKEwj1iKPtkb6DAxXJSWwGHfcWAxkQMygBegQIARBT..i&imgrefurl=https%3A%2F%2Fgithub.com%2Fcvzone%2Fcvzone%2Fblob%2Fmaster%2FREADME.md&docid=Sbg-uHkpUR9eNM&w=1200&h=600&q=cvzone%20documentation&ved=2ahUKEwj1iKPtkb6DAxXJSWwGHfcWAxkQMygBegQIARBT')"
   ]
  },
  {
   "cell_type": "code",
   "execution_count": 1,
   "id": "27b60902",
   "metadata": {},
   "outputs": [
    {
     "name": "stdout",
     "output_type": "stream",
     "text": [
      "Requirement already satisfied: opencv_python in c:\\users\\lenovo\\anaconda3\\lib\\site-packages (4.9.0.80)\n",
      "Requirement already satisfied: numpy>=1.21.2 in c:\\users\\lenovo\\anaconda3\\lib\\site-packages (from opencv_python) (1.24.3)\n",
      "Note: you may need to restart the kernel to use updated packages.\n"
     ]
    }
   ],
   "source": [
    "pip install opencv_python"
   ]
  },
  {
   "cell_type": "code",
   "execution_count": 1,
   "id": "4c843920",
   "metadata": {},
   "outputs": [],
   "source": [
    "import cv2 as c"
   ]
  },
  {
   "cell_type": "code",
   "execution_count": 2,
   "id": "25b2db89",
   "metadata": {},
   "outputs": [],
   "source": [
    "rt=c.VideoCapture(0)"
   ]
  },
  {
   "cell_type": "code",
   "execution_count": 3,
   "id": "6c43343d",
   "metadata": {},
   "outputs": [
    {
     "data": {
      "text/plain": [
       "< cv2.VideoCapture 00000245CD917B30>"
      ]
     },
     "execution_count": 3,
     "metadata": {},
     "output_type": "execute_result"
    }
   ],
   "source": [
    "rt"
   ]
  },
  {
   "cell_type": "code",
   "execution_count": 4,
   "id": "edc72bd8",
   "metadata": {},
   "outputs": [
    {
     "ename": "NameError",
     "evalue": "name 'status' is not defined",
     "output_type": "error",
     "traceback": [
      "\u001b[1;31m---------------------------------------------------------------------------\u001b[0m",
      "\u001b[1;31mNameError\u001b[0m                                 Traceback (most recent call last)",
      "Cell \u001b[1;32mIn[4], line 1\u001b[0m\n\u001b[1;32m----> 1\u001b[0m status\n",
      "\u001b[1;31mNameError\u001b[0m: name 'status' is not defined"
     ]
    }
   ],
   "source": [
    "status"
   ]
  },
  {
   "cell_type": "code",
   "execution_count": 5,
   "id": "a67a3634",
   "metadata": {},
   "outputs": [],
   "source": [
    "status , Root=rt.read()"
   ]
  },
  {
   "cell_type": "code",
   "execution_count": 6,
   "id": "3f4c726c",
   "metadata": {},
   "outputs": [
    {
     "data": {
      "text/plain": [
       "True"
      ]
     },
     "execution_count": 6,
     "metadata": {},
     "output_type": "execute_result"
    }
   ],
   "source": [
    "status"
   ]
  },
  {
   "cell_type": "code",
   "execution_count": 7,
   "id": "0d86bb23",
   "metadata": {},
   "outputs": [
    {
     "data": {
      "text/plain": [
       "True"
      ]
     },
     "execution_count": 7,
     "metadata": {},
     "output_type": "execute_result"
    }
   ],
   "source": [
    "c.imwrite(\"ddk.png\",Root)"
   ]
  },
  {
   "cell_type": "code",
   "execution_count": 8,
   "id": "54c640fa",
   "metadata": {},
   "outputs": [
    {
     "data": {
      "text/plain": [
       "-1"
      ]
     },
     "execution_count": 8,
     "metadata": {},
     "output_type": "execute_result"
    }
   ],
   "source": [
    "c.imshow(\"Root2\",Root)\n",
    "c.waitKey()"
   ]
  },
  {
   "cell_type": "code",
   "execution_count": 10,
   "id": "60b7dbbb",
   "metadata": {},
   "outputs": [],
   "source": [
    "c.destroyAllWindows()"
   ]
  },
  {
   "cell_type": "code",
   "execution_count": null,
   "id": "1bc72a74",
   "metadata": {},
   "outputs": [],
   "source": [
    "c.c"
   ]
  }
 ],
 "metadata": {
  "kernelspec": {
   "display_name": "Python 3 (ipykernel)",
   "language": "python",
   "name": "python3"
  },
  "language_info": {
   "codemirror_mode": {
    "name": "ipython",
    "version": 3
   },
   "file_extension": ".py",
   "mimetype": "text/x-python",
   "name": "python",
   "nbconvert_exporter": "python",
   "pygments_lexer": "ipython3",
   "version": "3.11.5"
  }
 },
 "nbformat": 4,
 "nbformat_minor": 5
}
