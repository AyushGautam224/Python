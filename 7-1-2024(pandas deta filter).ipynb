{
 "cells": [
  {
   "cell_type": "code",
   "execution_count": 1,
   "id": "ab318216",
   "metadata": {},
   "outputs": [],
   "source": [
    "import pandas as pd"
   ]
  },
  {
   "cell_type": "code",
   "execution_count": 2,
   "id": "1be96b98",
   "metadata": {},
   "outputs": [],
   "source": [
    "ab={\n",
    "    \"age\":[11,21,23,24,25,26,27,28,29,30],\"email\":['asrun','dummy','rest','best','suffer','food','utgghgf','kiygy','ikguhyg','oity'], \"number\":[36464,38655,68722228,84521787,894989,368114,33687,6987,36876,36414], \"city\":[\"lucknow\",\"sitapur\",\"hardoi\",\"kanpur\",\"agra\",\"juytv\",\"kuygvy\",\"kityy\",\"iutfj\",\"kiyhyu\"],\"enrol\":[6541,6841,6871,6781,4785,368713,3687,6781,7562,7856]\n",
    "}"
   ]
  },
  {
   "cell_type": "code",
   "execution_count": 3,
   "id": "546bdefb",
   "metadata": {},
   "outputs": [],
   "source": [
    "bc=pd.DataFrame(ab)"
   ]
  },
  {
   "cell_type": "code",
   "execution_count": 4,
   "id": "ff380a7b",
   "metadata": {},
   "outputs": [],
   "source": [
    "ac=bc[bc['enrol'] <6541]"
   ]
  },
  {
   "cell_type": "code",
   "execution_count": 5,
   "id": "a89a7b99",
   "metadata": {},
   "outputs": [
    {
     "name": "stdout",
     "output_type": "stream",
     "text": [
      "   age    email  number    city  enrol\n",
      "4   25   suffer  894989    agra   4785\n",
      "6   27  utgghgf   33687  kuygvy   3687\n"
     ]
    }
   ],
   "source": [
    "print(ac)"
   ]
  },
  {
   "cell_type": "code",
   "execution_count": 6,
   "id": "b80715d4",
   "metadata": {},
   "outputs": [],
   "source": [
    "vb=bc[bc['age']>25]"
   ]
  },
  {
   "cell_type": "code",
   "execution_count": 7,
   "id": "baf3fe10",
   "metadata": {},
   "outputs": [
    {
     "name": "stdout",
     "output_type": "stream",
     "text": [
      "   age    email  number    city   enrol\n",
      "5   26     food  368114   juytv  368713\n",
      "6   27  utgghgf   33687  kuygvy    3687\n",
      "7   28    kiygy    6987   kityy    6781\n",
      "8   29  ikguhyg   36876   iutfj    7562\n",
      "9   30     oity   36414  kiyhyu    7856\n"
     ]
    }
   ],
   "source": [
    "print(vb)"
   ]
  },
  {
   "cell_type": "code",
   "execution_count": null,
   "id": "bfe1ea3c",
   "metadata": {},
   "outputs": [],
   "source": []
  }
 ],
 "metadata": {
  "kernelspec": {
   "display_name": "Python 3 (ipykernel)",
   "language": "python",
   "name": "python3"
  },
  "language_info": {
   "codemirror_mode": {
    "name": "ipython",
    "version": 3
   },
   "file_extension": ".py",
   "mimetype": "text/x-python",
   "name": "python",
   "nbconvert_exporter": "python",
   "pygments_lexer": "ipython3",
   "version": "3.11.5"
  }
 },
 "nbformat": 4,
 "nbformat_minor": 5
}
